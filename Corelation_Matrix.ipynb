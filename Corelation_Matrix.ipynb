{
  "nbformat": 4,
  "nbformat_minor": 0,
  "metadata": {
    "colab": {
      "name": "Corelation Matrix.ipynb",
      "provenance": [],
      "authorship_tag": "ABX9TyMEgN9scdoex3yDwH9YvKxM"
    },
    "kernelspec": {
      "name": "python3",
      "display_name": "Python 3"
    }
  },
  "cells": [
    {
      "cell_type": "code",
      "metadata": {
        "id": "_4bmwMJErGR2"
      },
      "source": [
        "from sklearn.decomposition import PCA                     # PCA program from scikit learn (package for machine learning)\n",
        "from sklearn.preprocessing import StandardScaler          # standardize variables to mean of 0.0 and variance of 1.0\n",
        "import pandas as pd                                       # DataFrames and plotting\n",
        "import pandas.plotting as pd_plot                         # matrix scatter plots\n",
        "import numpy as np                                        # arrays and matrix math\n",
        "import matplotlib.pyplot as plt                           # plotting"
      ],
      "execution_count": null,
      "outputs": []
    },
    {
      "cell_type": "code",
      "metadata": {
        "id": "HxmUbtZUrdA8"
      },
      "source": [
        "def plot_corr(dataframe,size=10):                         # plots a graphical correlation matrix \n",
        "    corr = dataframe.corr()\n",
        "    fig, ax = plt.subplots(figsize=(size, size))\n",
        "    im = ax.matshow(corr,vmin = -1.0, vmax = 1.0)\n",
        "    plt.xticks(range(len(corr.columns)), corr.columns, rotation=90);\n",
        "    plt.yticks(range(len(corr.columns)), corr.columns);\n",
        "    plt.colorbar(im, orientation = 'vertical')"
      ],
      "execution_count": null,
      "outputs": []
    },
    {
      "cell_type": "code",
      "metadata": {
        "id": "1HMfd6vzrlWJ",
        "colab": {
          "base_uri": "https://localhost:8080/",
          "height": 34
        },
        "outputId": "20d2092c-0c6b-4338-9714-0aead7b9e9f1"
      },
      "source": [
        "my_data = pd.read_csv(\"facies_finals.csv\")\n",
        "my_data.shape"
      ],
      "execution_count": null,
      "outputs": [
        {
          "output_type": "execute_result",
          "data": {
            "text/plain": [
              "(4149, 27)"
            ]
          },
          "metadata": {
            "tags": []
          },
          "execution_count": 24
        }
      ]
    },
    {
      "cell_type": "code",
      "metadata": {
        "id": "IlCimj6RCL4x",
        "colab": {
          "base_uri": "https://localhost:8080/",
          "height": 224
        },
        "outputId": "23bcdf43-b3ff-42af-a7f1-6d493ac3bb93"
      },
      "source": [
        "my_data.head()"
      ],
      "execution_count": null,
      "outputs": [
        {
          "output_type": "execute_result",
          "data": {
            "text/html": [
              "<div>\n",
              "<style scoped>\n",
              "    .dataframe tbody tr th:only-of-type {\n",
              "        vertical-align: middle;\n",
              "    }\n",
              "\n",
              "    .dataframe tbody tr th {\n",
              "        vertical-align: top;\n",
              "    }\n",
              "\n",
              "    .dataframe thead th {\n",
              "        text-align: right;\n",
              "    }\n",
              "</style>\n",
              "<table border=\"1\" class=\"dataframe\">\n",
              "  <thead>\n",
              "    <tr style=\"text-align: right;\">\n",
              "      <th></th>\n",
              "      <th>Facies</th>\n",
              "      <th>Formation</th>\n",
              "      <th>Well Name</th>\n",
              "      <th>Depth</th>\n",
              "      <th>GR</th>\n",
              "      <th>ILD_log10</th>\n",
              "      <th>DeltaPHI</th>\n",
              "      <th>PHIND</th>\n",
              "      <th>PE</th>\n",
              "      <th>Archies</th>\n",
              "      <th>NM_M</th>\n",
              "      <th>RELPOS</th>\n",
              "      <th>GR_entropy_foot5</th>\n",
              "      <th>ILD_log10_entropy_foot5</th>\n",
              "      <th>DeltaPHI_entropy_foot5</th>\n",
              "      <th>PE_entropy_foot5</th>\n",
              "      <th>PHIND_entropy_foot5</th>\n",
              "      <th>GRgradient_dx5</th>\n",
              "      <th>ILD_log10gradient_dx5</th>\n",
              "      <th>DeltaPHIgradient_dx5</th>\n",
              "      <th>PHINDgradient_dx5</th>\n",
              "      <th>PEgradient_dx5</th>\n",
              "      <th>Marine_ratio_100_centered</th>\n",
              "      <th>dist_M_up</th>\n",
              "      <th>dist_M_down</th>\n",
              "      <th>dist_NM_up</th>\n",
              "      <th>dist_NM_down</th>\n",
              "    </tr>\n",
              "  </thead>\n",
              "  <tbody>\n",
              "    <tr>\n",
              "      <th>0</th>\n",
              "      <td>3</td>\n",
              "      <td>A1 SH</td>\n",
              "      <td>SHRIMPLIN</td>\n",
              "      <td>2793.0</td>\n",
              "      <td>77.45</td>\n",
              "      <td>0.664</td>\n",
              "      <td>9.9</td>\n",
              "      <td>11.915</td>\n",
              "      <td>4.6</td>\n",
              "      <td>0.617046</td>\n",
              "      <td>1</td>\n",
              "      <td>1.000</td>\n",
              "      <td>1.000000</td>\n",
              "      <td>1.000000</td>\n",
              "      <td>1.000000</td>\n",
              "      <td>1.000000</td>\n",
              "      <td>1.000000</td>\n",
              "      <td>0.162</td>\n",
              "      <td>-0.0006</td>\n",
              "      <td>0.86</td>\n",
              "      <td>0.1300</td>\n",
              "      <td>-0.10</td>\n",
              "      <td>1.140000</td>\n",
              "      <td>-1.0</td>\n",
              "      <td>21.5</td>\n",
              "      <td>0.0</td>\n",
              "      <td>0.0</td>\n",
              "    </tr>\n",
              "    <tr>\n",
              "      <th>1</th>\n",
              "      <td>3</td>\n",
              "      <td>A1 SH</td>\n",
              "      <td>SHRIMPLIN</td>\n",
              "      <td>2793.5</td>\n",
              "      <td>78.26</td>\n",
              "      <td>0.661</td>\n",
              "      <td>14.2</td>\n",
              "      <td>12.565</td>\n",
              "      <td>4.1</td>\n",
              "      <td>0.601367</td>\n",
              "      <td>1</td>\n",
              "      <td>0.979</td>\n",
              "      <td>0.918296</td>\n",
              "      <td>1.584963</td>\n",
              "      <td>1.584963</td>\n",
              "      <td>1.584963</td>\n",
              "      <td>1.584963</td>\n",
              "      <td>0.160</td>\n",
              "      <td>-0.0006</td>\n",
              "      <td>0.49</td>\n",
              "      <td>0.1135</td>\n",
              "      <td>-0.10</td>\n",
              "      <td>1.156863</td>\n",
              "      <td>-1.0</td>\n",
              "      <td>21.0</td>\n",
              "      <td>0.0</td>\n",
              "      <td>0.0</td>\n",
              "    </tr>\n",
              "    <tr>\n",
              "      <th>2</th>\n",
              "      <td>3</td>\n",
              "      <td>A1 SH</td>\n",
              "      <td>SHRIMPLIN</td>\n",
              "      <td>2794.0</td>\n",
              "      <td>79.05</td>\n",
              "      <td>0.658</td>\n",
              "      <td>14.8</td>\n",
              "      <td>13.050</td>\n",
              "      <td>3.6</td>\n",
              "      <td>0.589812</td>\n",
              "      <td>1</td>\n",
              "      <td>0.957</td>\n",
              "      <td>0.918296</td>\n",
              "      <td>1.584963</td>\n",
              "      <td>1.584963</td>\n",
              "      <td>0.918296</td>\n",
              "      <td>1.584963</td>\n",
              "      <td>0.784</td>\n",
              "      <td>-0.0006</td>\n",
              "      <td>-0.03</td>\n",
              "      <td>0.0550</td>\n",
              "      <td>-0.06</td>\n",
              "      <td>1.173077</td>\n",
              "      <td>-1.0</td>\n",
              "      <td>20.5</td>\n",
              "      <td>0.0</td>\n",
              "      <td>0.0</td>\n",
              "    </tr>\n",
              "    <tr>\n",
              "      <th>3</th>\n",
              "      <td>3</td>\n",
              "      <td>A1 SH</td>\n",
              "      <td>SHRIMPLIN</td>\n",
              "      <td>2794.5</td>\n",
              "      <td>86.10</td>\n",
              "      <td>0.655</td>\n",
              "      <td>13.9</td>\n",
              "      <td>13.115</td>\n",
              "      <td>3.5</td>\n",
              "      <td>0.585989</td>\n",
              "      <td>1</td>\n",
              "      <td>0.936</td>\n",
              "      <td>1.584963</td>\n",
              "      <td>1.584963</td>\n",
              "      <td>1.584963</td>\n",
              "      <td>0.000000</td>\n",
              "      <td>1.584963</td>\n",
              "      <td>-0.447</td>\n",
              "      <td>-0.0011</td>\n",
              "      <td>-0.13</td>\n",
              "      <td>0.0250</td>\n",
              "      <td>-0.02</td>\n",
              "      <td>1.188679</td>\n",
              "      <td>-1.0</td>\n",
              "      <td>20.0</td>\n",
              "      <td>0.0</td>\n",
              "      <td>0.0</td>\n",
              "    </tr>\n",
              "    <tr>\n",
              "      <th>4</th>\n",
              "      <td>3</td>\n",
              "      <td>A1 SH</td>\n",
              "      <td>SHRIMPLIN</td>\n",
              "      <td>2795.0</td>\n",
              "      <td>74.58</td>\n",
              "      <td>0.647</td>\n",
              "      <td>13.5</td>\n",
              "      <td>13.300</td>\n",
              "      <td>3.4</td>\n",
              "      <td>0.575699</td>\n",
              "      <td>1</td>\n",
              "      <td>0.915</td>\n",
              "      <td>0.918296</td>\n",
              "      <td>1.584963</td>\n",
              "      <td>1.584963</td>\n",
              "      <td>0.000000</td>\n",
              "      <td>1.584963</td>\n",
              "      <td>-1.213</td>\n",
              "      <td>-0.0019</td>\n",
              "      <td>0.01</td>\n",
              "      <td>0.0270</td>\n",
              "      <td>0.01</td>\n",
              "      <td>1.203704</td>\n",
              "      <td>-1.0</td>\n",
              "      <td>19.5</td>\n",
              "      <td>0.0</td>\n",
              "      <td>0.0</td>\n",
              "    </tr>\n",
              "  </tbody>\n",
              "</table>\n",
              "</div>"
            ],
            "text/plain": [
              "   Facies Formation  Well Name  ...  dist_M_down  dist_NM_up  dist_NM_down\n",
              "0       3     A1 SH  SHRIMPLIN  ...         21.5         0.0           0.0\n",
              "1       3     A1 SH  SHRIMPLIN  ...         21.0         0.0           0.0\n",
              "2       3     A1 SH  SHRIMPLIN  ...         20.5         0.0           0.0\n",
              "3       3     A1 SH  SHRIMPLIN  ...         20.0         0.0           0.0\n",
              "4       3     A1 SH  SHRIMPLIN  ...         19.5         0.0           0.0\n",
              "\n",
              "[5 rows x 27 columns]"
            ]
          },
          "metadata": {
            "tags": []
          },
          "execution_count": 25
        }
      ]
    },
    {
      "cell_type": "code",
      "metadata": {
        "id": "KFcUsXtEsdpa",
        "colab": {
          "base_uri": "https://localhost:8080/",
          "height": 224
        },
        "outputId": "55672283-0d9d-4e15-a21b-484ebdf6cbf4"
      },
      "source": [
        "my_data = my_data.iloc[:,3:17]                             # copy all rows and columns 1 through 8, note 0 column is removed\n",
        "my_data.head()                                           # calculate summary statistics for the data"
      ],
      "execution_count": null,
      "outputs": [
        {
          "output_type": "execute_result",
          "data": {
            "text/html": [
              "<div>\n",
              "<style scoped>\n",
              "    .dataframe tbody tr th:only-of-type {\n",
              "        vertical-align: middle;\n",
              "    }\n",
              "\n",
              "    .dataframe tbody tr th {\n",
              "        vertical-align: top;\n",
              "    }\n",
              "\n",
              "    .dataframe thead th {\n",
              "        text-align: right;\n",
              "    }\n",
              "</style>\n",
              "<table border=\"1\" class=\"dataframe\">\n",
              "  <thead>\n",
              "    <tr style=\"text-align: right;\">\n",
              "      <th></th>\n",
              "      <th>Depth</th>\n",
              "      <th>GR</th>\n",
              "      <th>ILD_log10</th>\n",
              "      <th>DeltaPHI</th>\n",
              "      <th>PHIND</th>\n",
              "      <th>PE</th>\n",
              "      <th>Archies</th>\n",
              "      <th>NM_M</th>\n",
              "      <th>RELPOS</th>\n",
              "      <th>GR_entropy_foot5</th>\n",
              "      <th>ILD_log10_entropy_foot5</th>\n",
              "      <th>DeltaPHI_entropy_foot5</th>\n",
              "      <th>PE_entropy_foot5</th>\n",
              "      <th>PHIND_entropy_foot5</th>\n",
              "    </tr>\n",
              "  </thead>\n",
              "  <tbody>\n",
              "    <tr>\n",
              "      <th>0</th>\n",
              "      <td>2793.0</td>\n",
              "      <td>77.45</td>\n",
              "      <td>0.664</td>\n",
              "      <td>9.9</td>\n",
              "      <td>11.915</td>\n",
              "      <td>4.6</td>\n",
              "      <td>0.617046</td>\n",
              "      <td>1</td>\n",
              "      <td>1.000</td>\n",
              "      <td>1.000000</td>\n",
              "      <td>1.000000</td>\n",
              "      <td>1.000000</td>\n",
              "      <td>1.000000</td>\n",
              "      <td>1.000000</td>\n",
              "    </tr>\n",
              "    <tr>\n",
              "      <th>1</th>\n",
              "      <td>2793.5</td>\n",
              "      <td>78.26</td>\n",
              "      <td>0.661</td>\n",
              "      <td>14.2</td>\n",
              "      <td>12.565</td>\n",
              "      <td>4.1</td>\n",
              "      <td>0.601367</td>\n",
              "      <td>1</td>\n",
              "      <td>0.979</td>\n",
              "      <td>0.918296</td>\n",
              "      <td>1.584963</td>\n",
              "      <td>1.584963</td>\n",
              "      <td>1.584963</td>\n",
              "      <td>1.584963</td>\n",
              "    </tr>\n",
              "    <tr>\n",
              "      <th>2</th>\n",
              "      <td>2794.0</td>\n",
              "      <td>79.05</td>\n",
              "      <td>0.658</td>\n",
              "      <td>14.8</td>\n",
              "      <td>13.050</td>\n",
              "      <td>3.6</td>\n",
              "      <td>0.589812</td>\n",
              "      <td>1</td>\n",
              "      <td>0.957</td>\n",
              "      <td>0.918296</td>\n",
              "      <td>1.584963</td>\n",
              "      <td>1.584963</td>\n",
              "      <td>0.918296</td>\n",
              "      <td>1.584963</td>\n",
              "    </tr>\n",
              "    <tr>\n",
              "      <th>3</th>\n",
              "      <td>2794.5</td>\n",
              "      <td>86.10</td>\n",
              "      <td>0.655</td>\n",
              "      <td>13.9</td>\n",
              "      <td>13.115</td>\n",
              "      <td>3.5</td>\n",
              "      <td>0.585989</td>\n",
              "      <td>1</td>\n",
              "      <td>0.936</td>\n",
              "      <td>1.584963</td>\n",
              "      <td>1.584963</td>\n",
              "      <td>1.584963</td>\n",
              "      <td>0.000000</td>\n",
              "      <td>1.584963</td>\n",
              "    </tr>\n",
              "    <tr>\n",
              "      <th>4</th>\n",
              "      <td>2795.0</td>\n",
              "      <td>74.58</td>\n",
              "      <td>0.647</td>\n",
              "      <td>13.5</td>\n",
              "      <td>13.300</td>\n",
              "      <td>3.4</td>\n",
              "      <td>0.575699</td>\n",
              "      <td>1</td>\n",
              "      <td>0.915</td>\n",
              "      <td>0.918296</td>\n",
              "      <td>1.584963</td>\n",
              "      <td>1.584963</td>\n",
              "      <td>0.000000</td>\n",
              "      <td>1.584963</td>\n",
              "    </tr>\n",
              "  </tbody>\n",
              "</table>\n",
              "</div>"
            ],
            "text/plain": [
              "    Depth     GR  ...  PE_entropy_foot5  PHIND_entropy_foot5\n",
              "0  2793.0  77.45  ...          1.000000             1.000000\n",
              "1  2793.5  78.26  ...          1.584963             1.584963\n",
              "2  2794.0  79.05  ...          0.918296             1.584963\n",
              "3  2794.5  86.10  ...          0.000000             1.584963\n",
              "4  2795.0  74.58  ...          0.000000             1.584963\n",
              "\n",
              "[5 rows x 14 columns]"
            ]
          },
          "metadata": {
            "tags": []
          },
          "execution_count": 26
        }
      ]
    },
    {
      "cell_type": "code",
      "metadata": {
        "id": "lEWY-2AKtOno",
        "colab": {
          "base_uri": "https://localhost:8080/",
          "height": 493
        },
        "outputId": "3b0ffa87-d11b-4255-d0fe-e523ced36782"
      },
      "source": [
        "corr_matrix = np.corrcoef(my_data, rowvar = False)\n",
        "print(np.around(corr_matrix,2))                           # print the correlation matrix to 2 decimals"
      ],
      "execution_count": null,
      "outputs": [
        {
          "output_type": "stream",
          "text": [
            "[[ 1.   -0.09  0.2   0.07 -0.1   0.28  0.16  0.28  0.   -0.04  0.04 -0.03\n",
            "   0.15 -0.  ]\n",
            " [-0.09  1.   -0.21  0.18  0.27 -0.33 -0.26 -0.32 -0.18  0.68 -0.19  0.31\n",
            "  -0.24  0.23]\n",
            " [ 0.2  -0.21  1.   -0.1  -0.54  0.43  0.87  0.49  0.09 -0.24  0.73 -0.26\n",
            "   0.46 -0.6 ]\n",
            " [ 0.07  0.18 -0.1   1.   -0.19 -0.02 -0.1  -0.18  0.02  0.18 -0.15  0.64\n",
            "  -0.14  0.1 ]\n",
            " [-0.1   0.27 -0.54 -0.19  1.   -0.59 -0.61 -0.48 -0.03  0.39 -0.49  0.09\n",
            "  -0.46  0.66]\n",
            " [ 0.28 -0.33  0.43 -0.02 -0.59  1.    0.49  0.66  0.02 -0.36  0.38 -0.28\n",
            "   0.66 -0.43]\n",
            " [ 0.16 -0.26  0.87 -0.1  -0.61  0.49  1.    0.49  0.06 -0.31  0.62 -0.3\n",
            "   0.45 -0.62]\n",
            " [ 0.28 -0.32  0.49 -0.18 -0.48  0.66  0.49  1.    0.03 -0.42  0.47 -0.3\n",
            "   0.62 -0.45]\n",
            " [ 0.   -0.18  0.09  0.02 -0.03  0.02  0.06  0.03  1.   -0.15  0.11 -0.01\n",
            "   0.04 -0.05]\n",
            " [-0.04  0.68 -0.24  0.18  0.39 -0.36 -0.31 -0.42 -0.15  1.   -0.27  0.35\n",
            "  -0.34  0.38]\n",
            " [ 0.04 -0.19  0.73 -0.15 -0.49  0.38  0.62  0.47  0.11 -0.27  1.   -0.23\n",
            "   0.49 -0.58]\n",
            " [-0.03  0.31 -0.26  0.64  0.09 -0.28 -0.3  -0.3  -0.01  0.35 -0.23  1.\n",
            "  -0.27  0.27]\n",
            " [ 0.15 -0.24  0.46 -0.14 -0.46  0.66  0.45  0.62  0.04 -0.34  0.49 -0.27\n",
            "   1.   -0.48]\n",
            " [-0.    0.23 -0.6   0.1   0.66 -0.43 -0.62 -0.45 -0.05  0.38 -0.58  0.27\n",
            "  -0.48  1.  ]]\n"
          ],
          "name": "stdout"
        }
      ]
    },
    {
      "cell_type": "code",
      "metadata": {
        "id": "P5SvgBP3wgLY",
        "colab": {
          "base_uri": "https://localhost:8080/",
          "height": 662
        },
        "outputId": "aa46bf27-9630-49a3-b798-567e53d3083d"
      },
      "source": [
        "plot_corr(my_data)  \n",
        "plt.show()"
      ],
      "execution_count": null,
      "outputs": [
        {
          "output_type": "display_data",
          "data": {
            "image/png": "[encoded data removed]",
            "text/plain": [
              "<Figure size 720x720 with 2 Axes>"
            ]
          },
          "metadata": {
            "tags": [],
            "needs_background": "light"
          }
        }
      ]
    }
  ]
}
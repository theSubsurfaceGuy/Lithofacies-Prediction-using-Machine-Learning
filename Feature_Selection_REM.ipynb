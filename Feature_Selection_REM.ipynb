{
  "nbformat": 4,
  "nbformat_minor": 0,
  "metadata": {
    "colab": {
      "name": "Feature Selection_REM.ipynb",
      "provenance": [],
      "authorship_tag": "ABX9TyNKxkrSAZWEG1bAf1nPwYLS"
    },
    "kernelspec": {
      "name": "python3",
      "display_name": "Python 3"
    }
  },
  "cells": [
    {
      "cell_type": "code",
      "metadata": {
        "id": "UJxd3ZreFP52"
      },
      "source": [
        "import numpy as np\n",
        "import pandas as pd\n",
        "import matplotlib.pyplot as plt\n",
        "import warnings\n",
        "warnings.filterwarnings('ignore')\n",
        "pd.options.display.max_columns = None"
      ],
      "execution_count": null,
      "outputs": []
    },
    {
      "cell_type": "code",
      "metadata": {
        "id": "C6fU-fWiFdno"
      },
      "source": [
        "import xgboost as xgb\n",
        "from xgboost.sklearn import  XGBClassifier\n",
        "from sklearn.model_selection import StratifiedKFold\n",
        "from sklearn.feature_selection import RFECV"
      ],
      "execution_count": null,
      "outputs": []
    },
    {
      "cell_type": "code",
      "metadata": {
        "id": "j-0w1Au5LfjD"
      },
      "source": [
        "def plot_corr(dataframe,size=50):                         \n",
        "    corr = dataframe.corr()\n",
        "    fig, ax = plt.subplots(figsize=(size, size))\n",
        "    im = ax.matshow(corr,vmin = -1.0, vmax = 1.0)\n",
        "    plt.xticks(range(len(corr.columns)), corr.columns, rotation=90);\n",
        "    plt.yticks(range(len(corr.columns)), corr.columns);\n",
        "    plt.colorbar(im, orientation = 'vertical')"
      ],
      "execution_count": null,
      "outputs": []
    },
    {
      "cell_type": "code",
      "metadata": {
        "id": "rgbAyUsjFere"
      },
      "source": [
        "data = pd.read_csv('facies_finals.csv')"
      ],
      "execution_count": null,
      "outputs": []
    },
    {
      "cell_type": "code",
      "metadata": {
        "id": "O0QcerwKFs7S",
        "colab": {
          "base_uri": "https://localhost:8080/",
          "height": 34
        },
        "outputId": "aecdfffd-8b66-4c93-dd74-58b17cbb2601"
      },
      "source": [
        "data.shape"
      ],
      "execution_count": null,
      "outputs": [
        {
          "output_type": "execute_result",
          "data": {
            "text/plain": [
              "(4149, 27)"
            ]
          },
          "metadata": {
            "tags": []
          },
          "execution_count": 5
        }
      ]
    },
    {
      "cell_type": "code",
      "metadata": {
        "id": "iQeQitb_Fy7x",
        "colab": {
          "base_uri": "https://localhost:8080/",
          "height": 317
        },
        "outputId": "d910c49e-552d-4fb9-b07e-c202c6e711cd"
      },
      "source": [
        "my_data = data.iloc[:,2:27]                             \n",
        "my_data.describe()                                "
      ],
      "execution_count": null,
      "outputs": [
        {
          "output_type": "execute_result",
          "data": {
            "text/html": [
              "<div>\n",
              "<style scoped>\n",
              "    .dataframe tbody tr th:only-of-type {\n",
              "        vertical-align: middle;\n",
              "    }\n",
              "\n",
              "    .dataframe tbody tr th {\n",
              "        vertical-align: top;\n",
              "    }\n",
              "\n",
              "    .dataframe thead th {\n",
              "        text-align: right;\n",
              "    }\n",
              "</style>\n",
              "<table border=\"1\" class=\"dataframe\">\n",
              "  <thead>\n",
              "    <tr style=\"text-align: right;\">\n",
              "      <th></th>\n",
              "      <th>Depth</th>\n",
              "      <th>GR</th>\n",
              "      <th>ILD_log10</th>\n",
              "      <th>DeltaPHI</th>\n",
              "      <th>PHIND</th>\n",
              "      <th>PE</th>\n",
              "      <th>Archies</th>\n",
              "      <th>NM_M</th>\n",
              "      <th>RELPOS</th>\n",
              "      <th>GR_entropy_foot5</th>\n",
              "      <th>ILD_log10_entropy_foot5</th>\n",
              "      <th>DeltaPHI_entropy_foot5</th>\n",
              "      <th>PE_entropy_foot5</th>\n",
              "      <th>PHIND_entropy_foot5</th>\n",
              "      <th>GRgradient_dx5</th>\n",
              "      <th>ILD_log10gradient_dx5</th>\n",
              "      <th>DeltaPHIgradient_dx5</th>\n",
              "      <th>PHINDgradient_dx5</th>\n",
              "      <th>PEgradient_dx5</th>\n",
              "      <th>Marine_ratio_100_centered</th>\n",
              "      <th>dist_M_up</th>\n",
              "      <th>dist_M_down</th>\n",
              "      <th>dist_NM_up</th>\n",
              "      <th>dist_NM_down</th>\n",
              "    </tr>\n",
              "  </thead>\n",
              "  <tbody>\n",
              "    <tr>\n",
              "      <th>count</th>\n",
              "      <td>4149.000000</td>\n",
              "      <td>4149.000000</td>\n",
              "      <td>4149.000000</td>\n",
              "      <td>4149.000000</td>\n",
              "      <td>4149.000000</td>\n",
              "      <td>4149.000000</td>\n",
              "      <td>4149.000000</td>\n",
              "      <td>4149.000000</td>\n",
              "      <td>4149.000000</td>\n",
              "      <td>4149.000000</td>\n",
              "      <td>4149.000000</td>\n",
              "      <td>4149.000000</td>\n",
              "      <td>4149.000000</td>\n",
              "      <td>4149.000000</td>\n",
              "      <td>4149.000000</td>\n",
              "      <td>4149.000000</td>\n",
              "      <td>4149.000000</td>\n",
              "      <td>4149.000000</td>\n",
              "      <td>4149.000000</td>\n",
              "      <td>4149.000000</td>\n",
              "      <td>4149.000000</td>\n",
              "      <td>4149.00000</td>\n",
              "      <td>4149.000000</td>\n",
              "      <td>4149.000000</td>\n",
              "    </tr>\n",
              "    <tr>\n",
              "      <th>mean</th>\n",
              "      <td>2906.867438</td>\n",
              "      <td>64.933985</td>\n",
              "      <td>0.659566</td>\n",
              "      <td>4.402484</td>\n",
              "      <td>13.201066</td>\n",
              "      <td>3.761512</td>\n",
              "      <td>0.691400</td>\n",
              "      <td>1.518438</td>\n",
              "      <td>0.521852</td>\n",
              "      <td>0.803171</td>\n",
              "      <td>0.780169</td>\n",
              "      <td>0.870552</td>\n",
              "      <td>0.747660</td>\n",
              "      <td>0.832629</td>\n",
              "      <td>-0.001515</td>\n",
              "      <td>0.000073</td>\n",
              "      <td>0.000096</td>\n",
              "      <td>-0.002119</td>\n",
              "      <td>0.000207</td>\n",
              "      <td>1.522436</td>\n",
              "      <td>3.747289</td>\n",
              "      <td>5.09677</td>\n",
              "      <td>6.640034</td>\n",
              "      <td>4.534225</td>\n",
              "    </tr>\n",
              "    <tr>\n",
              "      <th>std</th>\n",
              "      <td>133.300164</td>\n",
              "      <td>30.302530</td>\n",
              "      <td>0.252703</td>\n",
              "      <td>5.274947</td>\n",
              "      <td>7.132846</td>\n",
              "      <td>0.839810</td>\n",
              "      <td>0.451425</td>\n",
              "      <td>0.499720</td>\n",
              "      <td>0.286644</td>\n",
              "      <td>0.729118</td>\n",
              "      <td>0.740463</td>\n",
              "      <td>0.720218</td>\n",
              "      <td>0.714613</td>\n",
              "      <td>0.738651</td>\n",
              "      <td>1.953975</td>\n",
              "      <td>0.009369</td>\n",
              "      <td>0.400583</td>\n",
              "      <td>0.516156</td>\n",
              "      <td>0.048861</td>\n",
              "      <td>0.235857</td>\n",
              "      <td>7.020922</td>\n",
              "      <td>7.75078</td>\n",
              "      <td>10.206235</td>\n",
              "      <td>8.838803</td>\n",
              "    </tr>\n",
              "    <tr>\n",
              "      <th>min</th>\n",
              "      <td>2573.500000</td>\n",
              "      <td>10.149000</td>\n",
              "      <td>-0.025949</td>\n",
              "      <td>-21.832000</td>\n",
              "      <td>0.550000</td>\n",
              "      <td>0.200000</td>\n",
              "      <td>-3.839972</td>\n",
              "      <td>1.000000</td>\n",
              "      <td>0.000000</td>\n",
              "      <td>0.000000</td>\n",
              "      <td>0.000000</td>\n",
              "      <td>0.000000</td>\n",
              "      <td>0.000000</td>\n",
              "      <td>0.000000</td>\n",
              "      <td>-24.572000</td>\n",
              "      <td>-0.062100</td>\n",
              "      <td>-3.420000</td>\n",
              "      <td>-4.675000</td>\n",
              "      <td>-0.255200</td>\n",
              "      <td>1.000000</td>\n",
              "      <td>-1.000000</td>\n",
              "      <td>0.00000</td>\n",
              "      <td>-1.000000</td>\n",
              "      <td>-1.000000</td>\n",
              "    </tr>\n",
              "    <tr>\n",
              "      <th>25%</th>\n",
              "      <td>2821.500000</td>\n",
              "      <td>44.730000</td>\n",
              "      <td>0.498000</td>\n",
              "      <td>1.600000</td>\n",
              "      <td>8.500000</td>\n",
              "      <td>3.200000</td>\n",
              "      <td>0.410753</td>\n",
              "      <td>1.000000</td>\n",
              "      <td>0.277000</td>\n",
              "      <td>0.000000</td>\n",
              "      <td>0.000000</td>\n",
              "      <td>0.000000</td>\n",
              "      <td>0.000000</td>\n",
              "      <td>0.000000</td>\n",
              "      <td>-0.575000</td>\n",
              "      <td>-0.004000</td>\n",
              "      <td>-0.153600</td>\n",
              "      <td>-0.145000</td>\n",
              "      <td>-0.020000</td>\n",
              "      <td>1.380000</td>\n",
              "      <td>0.000000</td>\n",
              "      <td>0.00000</td>\n",
              "      <td>0.000000</td>\n",
              "      <td>0.000000</td>\n",
              "    </tr>\n",
              "    <tr>\n",
              "      <th>50%</th>\n",
              "      <td>2932.500000</td>\n",
              "      <td>64.990000</td>\n",
              "      <td>0.639000</td>\n",
              "      <td>4.300000</td>\n",
              "      <td>12.020000</td>\n",
              "      <td>3.600000</td>\n",
              "      <td>0.581133</td>\n",
              "      <td>2.000000</td>\n",
              "      <td>0.528000</td>\n",
              "      <td>0.918296</td>\n",
              "      <td>0.918296</td>\n",
              "      <td>0.918296</td>\n",
              "      <td>0.918296</td>\n",
              "      <td>0.918296</td>\n",
              "      <td>0.060500</td>\n",
              "      <td>-0.000100</td>\n",
              "      <td>0.000000</td>\n",
              "      <td>0.001850</td>\n",
              "      <td>0.000000</td>\n",
              "      <td>1.510000</td>\n",
              "      <td>0.000000</td>\n",
              "      <td>0.00000</td>\n",
              "      <td>0.000000</td>\n",
              "      <td>0.000000</td>\n",
              "    </tr>\n",
              "    <tr>\n",
              "      <th>75%</th>\n",
              "      <td>3007.000000</td>\n",
              "      <td>79.438000</td>\n",
              "      <td>0.822000</td>\n",
              "      <td>7.500000</td>\n",
              "      <td>16.050000</td>\n",
              "      <td>4.300000</td>\n",
              "      <td>0.899333</td>\n",
              "      <td>2.000000</td>\n",
              "      <td>0.769000</td>\n",
              "      <td>1.584963</td>\n",
              "      <td>1.584963</td>\n",
              "      <td>1.584963</td>\n",
              "      <td>1.584963</td>\n",
              "      <td>1.584963</td>\n",
              "      <td>0.627100</td>\n",
              "      <td>0.004000</td>\n",
              "      <td>0.160000</td>\n",
              "      <td>0.145000</td>\n",
              "      <td>0.020000</td>\n",
              "      <td>1.670000</td>\n",
              "      <td>5.500000</td>\n",
              "      <td>8.50000</td>\n",
              "      <td>10.500000</td>\n",
              "      <td>5.500000</td>\n",
              "    </tr>\n",
              "    <tr>\n",
              "      <th>max</th>\n",
              "      <td>3138.000000</td>\n",
              "      <td>361.150000</td>\n",
              "      <td>1.800000</td>\n",
              "      <td>19.312000</td>\n",
              "      <td>84.400000</td>\n",
              "      <td>8.094000</td>\n",
              "      <td>6.976266</td>\n",
              "      <td>2.000000</td>\n",
              "      <td>1.000000</td>\n",
              "      <td>1.584963</td>\n",
              "      <td>1.584963</td>\n",
              "      <td>1.584963</td>\n",
              "      <td>1.584963</td>\n",
              "      <td>1.584963</td>\n",
              "      <td>23.242000</td>\n",
              "      <td>0.100100</td>\n",
              "      <td>2.710000</td>\n",
              "      <td>7.000000</td>\n",
              "      <td>0.440000</td>\n",
              "      <td>2.000000</td>\n",
              "      <td>46.000000</td>\n",
              "      <td>46.00000</td>\n",
              "      <td>51.500000</td>\n",
              "      <td>47.000000</td>\n",
              "    </tr>\n",
              "  </tbody>\n",
              "</table>\n",
              "</div>"
            ],
            "text/plain": [
              "             Depth           GR    ILD_log10     DeltaPHI        PHIND  \\\n",
              "count  4149.000000  4149.000000  4149.000000  4149.000000  4149.000000   \n",
              "mean   2906.867438    64.933985     0.659566     4.402484    13.201066   \n",
              "std     133.300164    30.302530     0.252703     5.274947     7.132846   \n",
              "min    2573.500000    10.149000    -0.025949   -21.832000     0.550000   \n",
              "25%    2821.500000    44.730000     0.498000     1.600000     8.500000   \n",
              "50%    2932.500000    64.990000     0.639000     4.300000    12.020000   \n",
              "75%    3007.000000    79.438000     0.822000     7.500000    16.050000   \n",
              "max    3138.000000   361.150000     1.800000    19.312000    84.400000   \n",
              "\n",
              "                PE      Archies         NM_M       RELPOS  GR_entropy_foot5  \\\n",
              "count  4149.000000  4149.000000  4149.000000  4149.000000       4149.000000   \n",
              "mean      3.761512     0.691400     1.518438     0.521852          0.803171   \n",
              "std       0.839810     0.451425     0.499720     0.286644          0.729118   \n",
              "min       0.200000    -3.839972     1.000000     0.000000          0.000000   \n",
              "25%       3.200000     0.410753     1.000000     0.277000          0.000000   \n",
              "50%       3.600000     0.581133     2.000000     0.528000          0.918296   \n",
              "75%       4.300000     0.899333     2.000000     0.769000          1.584963   \n",
              "max       8.094000     6.976266     2.000000     1.000000          1.584963   \n",
              "\n",
              "       ILD_log10_entropy_foot5  DeltaPHI_entropy_foot5  PE_entropy_foot5  \\\n",
              "count              4149.000000             4149.000000       4149.000000   \n",
              "mean                  0.780169                0.870552          0.747660   \n",
              "std                   0.740463                0.720218          0.714613   \n",
              "min                   0.000000                0.000000          0.000000   \n",
              "25%                   0.000000                0.000000          0.000000   \n",
              "50%                   0.918296                0.918296          0.918296   \n",
              "75%                   1.584963                1.584963          1.584963   \n",
              "max                   1.584963                1.584963          1.584963   \n",
              "\n",
              "       PHIND_entropy_foot5  GRgradient_dx5  ILD_log10gradient_dx5  \\\n",
              "count          4149.000000     4149.000000            4149.000000   \n",
              "mean              0.832629       -0.001515               0.000073   \n",
              "std               0.738651        1.953975               0.009369   \n",
              "min               0.000000      -24.572000              -0.062100   \n",
              "25%               0.000000       -0.575000              -0.004000   \n",
              "50%               0.918296        0.060500              -0.000100   \n",
              "75%               1.584963        0.627100               0.004000   \n",
              "max               1.584963       23.242000               0.100100   \n",
              "\n",
              "       DeltaPHIgradient_dx5  PHINDgradient_dx5  PEgradient_dx5  \\\n",
              "count           4149.000000        4149.000000     4149.000000   \n",
              "mean               0.000096          -0.002119        0.000207   \n",
              "std                0.400583           0.516156        0.048861   \n",
              "min               -3.420000          -4.675000       -0.255200   \n",
              "25%               -0.153600          -0.145000       -0.020000   \n",
              "50%                0.000000           0.001850        0.000000   \n",
              "75%                0.160000           0.145000        0.020000   \n",
              "max                2.710000           7.000000        0.440000   \n",
              "\n",
              "       Marine_ratio_100_centered    dist_M_up  dist_M_down   dist_NM_up  \\\n",
              "count                4149.000000  4149.000000   4149.00000  4149.000000   \n",
              "mean                    1.522436     3.747289      5.09677     6.640034   \n",
              "std                     0.235857     7.020922      7.75078    10.206235   \n",
              "min                     1.000000    -1.000000      0.00000    -1.000000   \n",
              "25%                     1.380000     0.000000      0.00000     0.000000   \n",
              "50%                     1.510000     0.000000      0.00000     0.000000   \n",
              "75%                     1.670000     5.500000      8.50000    10.500000   \n",
              "max                     2.000000    46.000000     46.00000    51.500000   \n",
              "\n",
              "       dist_NM_down  \n",
              "count   4149.000000  \n",
              "mean       4.534225  \n",
              "std        8.838803  \n",
              "min       -1.000000  \n",
              "25%        0.000000  \n",
              "50%        0.000000  \n",
              "75%        5.500000  \n",
              "max       47.000000  "
            ]
          },
          "metadata": {
            "tags": []
          },
          "execution_count": 6
        }
      ]
    },
    {
      "cell_type": "code",
      "metadata": {
        "id": "TPErBsr2GqmM"
      },
      "source": [
        "correlated_features = set()\n",
        "correlation_matrix = data.drop('Facies', axis=1).corr()\n",
        "for i in range(len(correlation_matrix.columns)):\n",
        "    for j in range(i):\n",
        "        if abs(correlation_matrix.iloc[i, j]) > 0.9:\n",
        "            colname = correlation_matrix.columns[i]\n",
        "            correlated_features.add(colname)"
      ],
      "execution_count": null,
      "outputs": []
    },
    {
      "cell_type": "code",
      "metadata": {
        "id": "oGqnQfxLLzHc",
        "colab": {
          "base_uri": "https://localhost:8080/",
          "height": 34
        },
        "outputId": "ff1a959d-0ff2-4cc8-989e-67355927da83"
      },
      "source": [
        "correlated_features"
      ],
      "execution_count": null,
      "outputs": [
        {
          "output_type": "execute_result",
          "data": {
            "text/plain": [
              "set()"
            ]
          },
          "metadata": {
            "tags": []
          },
          "execution_count": 15
        }
      ]
    },
    {
      "cell_type": "code",
      "metadata": {
        "id": "DeksNwMbfVHO"
      },
      "source": [
        "my_data=my_data.drop(correlated_features, axis=1)"
      ],
      "execution_count": null,
      "outputs": []
    },
    {
      "cell_type": "code",
      "metadata": {
        "id": "nQhhG5SRgKoz",
        "colab": {
          "base_uri": "https://localhost:8080/",
          "height": 34
        },
        "outputId": "e8e8c02c-df4d-4b51-d42a-85d06fe964bd"
      },
      "source": [
        "my_data.shape"
      ],
      "execution_count": null,
      "outputs": [
        {
          "output_type": "execute_result",
          "data": {
            "text/plain": [
              "(4149, 25)"
            ]
          },
          "metadata": {
            "tags": []
          },
          "execution_count": 17
        }
      ]
    },
    {
      "cell_type": "code",
      "metadata": {
        "id": "6lTVPN6KMDwS",
        "colab": {
          "base_uri": "https://localhost:8080/",
          "height": 221
        },
        "outputId": "5974d8a7-1ada-4a67-d20f-4c219ceeed62"
      },
      "source": [
        "X = data.drop(['Facies','Well Name','Formation'], axis=1)\n",
        "target = data['Facies']\n",
        "rfc = xgb.XGBClassifier(random_state=101)\n",
        "rfecv = RFECV(estimator=rfc, step=1, cv=StratifiedKFold(10), scoring='accuracy')\n",
        "rfecv.fit(X, target)"
      ],
      "execution_count": null,
      "outputs": [
        {
          "output_type": "execute_result",
          "data": {
            "text/plain": [
              "RFECV(cv=StratifiedKFold(n_splits=10, random_state=None, shuffle=False),\n",
              "      estimator=XGBClassifier(base_score=0.5, booster='gbtree',\n",
              "                              colsample_bylevel=1, colsample_bynode=1,\n",
              "                              colsample_bytree=1, gamma=0, learning_rate=0.1,\n",
              "                              max_delta_step=0, max_depth=3, min_child_weight=1,\n",
              "                              missing=None, n_estimators=100, n_jobs=1,\n",
              "                              nthread=None, objective='binary:logistic',\n",
              "                              random_state=101, reg_alpha=0, reg_lambda=1,\n",
              "                              scale_pos_weight=1, seed=None, silent=None,\n",
              "                              subsample=1, verbosity=1),\n",
              "      min_features_to_select=1, n_jobs=None, scoring='accuracy', step=1,\n",
              "      verbose=0)"
            ]
          },
          "metadata": {
            "tags": []
          },
          "execution_count": 21
        }
      ]
    },
    {
      "cell_type": "code",
      "metadata": {
        "id": "FzF221E7NBNu",
        "colab": {
          "base_uri": "https://localhost:8080/",
          "height": 34
        },
        "outputId": "03a6d354-e4b9-45ea-c1a6-5bd9afe32674"
      },
      "source": [
        "print('Optimal number of features: {}'.format(rfecv.n_features_))"
      ],
      "execution_count": null,
      "outputs": [
        {
          "output_type": "stream",
          "text": [
            "Optimal number of features: 13\n"
          ],
          "name": "stdout"
        }
      ]
    },
    {
      "cell_type": "code",
      "metadata": {
        "id": "1-jEkI6oNC11",
        "colab": {
          "base_uri": "https://localhost:8080/",
          "height": 585
        },
        "outputId": "6a307d31-d49a-4132-d1c2-565ef3ee712a"
      },
      "source": [
        "plt.figure(figsize=(16, 9))\n",
        "plt.title('Recursive Feature Elimination with Cross-Validation', color='#2E86C1',fontsize=18, pad=20)\n",
        "plt.xlabel('Number of features selected', fontsize=14,color='#2E86C1', labelpad=20)\n",
        "plt.ylabel('% Correct Classification', fontsize=14, color='#2E86C1',labelpad=20)\n",
        "plt.plot(range(1, len(rfecv.grid_scores_) + 1), rfecv.grid_scores_, color='#F5B041', linewidth=2)\n",
        "plt.show()"
      ],
      "execution_count": null,
      "outputs": [
        {
          "output_type": "display_data",
          "data": {
            "image/png": "[encoded data removed]",
            "text/plain": [
              "<Figure size 1152x648 with 1 Axes>"
            ]
          },
          "metadata": {
            "tags": [],
            "needs_background": "light"
          }
        }
      ]
    },
    {
      "cell_type": "code",
      "metadata": {
        "id": "wMy8qASsNLHv",
        "colab": {
          "base_uri": "https://localhost:8080/",
          "height": 34
        },
        "outputId": "acd78e99-8866-4c1c-8055-13bc47234ce6"
      },
      "source": [
        "print(np.where(rfecv.support_ == False)[0])\n",
        "X.drop(X.columns[np.where(rfecv.support_ == False)[0]], axis=1, inplace=True)"
      ],
      "execution_count": null,
      "outputs": [
        {
          "output_type": "stream",
          "text": [
            "[ 0  6  8 10 12 14 15 16 17 18 20]\n"
          ],
          "name": "stdout"
        }
      ]
    },
    {
      "cell_type": "code",
      "metadata": {
        "id": "w3rSrQnU8PH8"
      },
      "source": [
        "X.describe()\n",
        "X.to_csv('REM_New.csv')"
      ],
      "execution_count": null,
      "outputs": []
    },
    {
      "cell_type": "code",
      "metadata": {
        "id": "7zBQKZgfNcsC",
        "colab": {
          "base_uri": "https://localhost:8080/",
          "height": 791
        },
        "outputId": "736039f6-61c7-4d55-b0c2-2fe9c4592f22"
      },
      "source": [
        "dset = pd.DataFrame()\n",
        "dset['attr'] = X.columns\n",
        "dset['importance'] = rfecv.estimator_.feature_importances_\n",
        "\n",
        "dset = dset.sort_values(by='importance', ascending=False)\n",
        "\n",
        "\n",
        "plt.figure(figsize=(16, 14))\n",
        "plt.barh(y=dset['attr'], width=dset['importance'], color='#2E86C1')\n",
        "plt.title('RFECV - Feature Importances', fontsize=20, pad=20)\n",
        "plt.xlabel('Importance', fontsize=14, labelpad=20)\n",
        "plt.show()"
      ],
      "execution_count": null,
      "outputs": [
        {
          "output_type": "display_data",
          "data": {
            "image/png": "[encoded data removed]",
            "text/plain": [
              "<Figure size 1152x1008 with 1 Axes>"
            ]
          },
          "metadata": {
            "tags": [],
            "needs_background": "light"
          }
        }
      ]
    }
  ]
}